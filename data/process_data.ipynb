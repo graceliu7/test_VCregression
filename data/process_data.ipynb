{
 "cells": [
  {
   "cell_type": "code",
   "execution_count": 1,
   "metadata": {},
   "outputs": [],
   "source": [
    "import numpy as np\n",
    "import pandas as pd\n",
    "from Bio import SeqIO\n",
    "from tqdm import tqdm\n",
    "from sklearn.model_selection import train_test_split"
   ]
  },
  {
   "cell_type": "code",
   "execution_count": 2,
   "metadata": {},
   "outputs": [],
   "source": [
    "raw_df = pd.read_csv('raw/GB1_Wu_2016.csv')\n",
    "del raw_df['Unnamed: 0']\n",
    "raw_df.dropna(inplace=True)\n",
    "raw_df.drop(raw_df.index[raw_df['fit']==0], inplace=True)\n",
    "raw_df.reset_index(drop=True, inplace=True)\n",
    "fasta_sequences = SeqIO.parse(open('raw/GB1_Wu_2016.fasta'),'fasta')\n",
    "for fasta in fasta_sequences:\n",
    "    _, sequence = fasta.id, str(fasta.seq)\n",
    "mut_positions = [39, 40, 41, 54]\n"
   ]
  },
  {
   "cell_type": "code",
   "execution_count": 3,
   "metadata": {},
   "outputs": [],
   "source": [
    "wt = ''\n",
    "for pos in mut_positions:\n",
    "    wt = wt + sequence[pos-1]"
   ]
  },
  {
   "cell_type": "code",
   "execution_count": 4,
   "metadata": {},
   "outputs": [],
   "source": [
    "def get_mut_seq(base_seq, pos, new_aa, positions): \n",
    "    '''\n",
    "    Uses a base sequence, position and new amino acid to generate a sequence corresponding to the inputted mutations. Also performs checks\n",
    "    that the position is valid and matches the expected old amino acid. \n",
    "\n",
    "    Arguments:\n",
    "    - base_seq[str]: the base sequence of the non-mutant protein\n",
    "    - pos[int or list]: a single position or a list of positions where mutations occurred\n",
    "    - old_aa[str or list]: a single string or list of strings indicating the expected old amino acids at pos\n",
    "    - new_aa[str or list]: a string or list of strings indicating the mutant amino acids\n",
    "    - mut_positions[str]: a list of totel possible mutation positions \n",
    "\n",
    "    Returns:\n",
    "    - seq[str]: the mutated sequence\n",
    "    '''\n",
    "    if type(pos) is int:\n",
    "        adj_pos = positions.index(pos)\n",
    "        seq = base_seq[:adj_pos] + new_aa + base_seq[adj_pos+1:]\n",
    "\n",
    "    else:\n",
    "        assert len(new_aa)==len(pos), f'Number of positions {len(pos)} is different from the number of new amino acids: {len(new_aa)}'\n",
    "        seq=base_seq\n",
    "        for i, pos_ in enumerate(pos):\n",
    "            adj_pos_ = positions.index(pos_)\n",
    "            seq = seq[:adj_pos_] + new_aa[i] + seq[adj_pos_+1:]\n",
    "    return seq"
   ]
  },
  {
   "cell_type": "code",
   "execution_count": 11,
   "metadata": {},
   "outputs": [
    {
     "name": "stderr",
     "output_type": "stream",
     "text": [
      "C:\\Users\\grace\\AppData\\Local\\Temp/ipykernel_2088/689164729.py:12: SettingWithCopyWarning: \n",
      "A value is trying to be set on a copy of a slice from a DataFrame.\n",
      "Try using .loc[row_indexer,col_indexer] = value instead\n",
      "\n",
      "See the caveats in the documentation: https://pandas.pydata.org/pandas-docs/stable/user_guide/indexing.html#returning-a-view-versus-a-copy\n",
      "  single_muts['pos'] = single_muts['muts'].apply(lambda x: int(x[1:-1]))\n",
      "C:\\Users\\grace\\AppData\\Local\\Temp/ipykernel_2088/689164729.py:13: SettingWithCopyWarning: \n",
      "A value is trying to be set on a copy of a slice from a DataFrame.\n",
      "Try using .loc[row_indexer,col_indexer] = value instead\n",
      "\n",
      "See the caveats in the documentation: https://pandas.pydata.org/pandas-docs/stable/user_guide/indexing.html#returning-a-view-versus-a-copy\n",
      "  single_muts['new_aa'] = single_muts['muts'].apply(lambda x: x[-1])\n",
      "C:\\Users\\grace\\AppData\\Local\\Temp/ipykernel_2088/689164729.py:24: SettingWithCopyWarning: \n",
      "A value is trying to be set on a copy of a slice from a DataFrame.\n",
      "Try using .loc[row_indexer,col_indexer] = value instead\n",
      "\n",
      "See the caveats in the documentation: https://pandas.pydata.org/pandas-docs/stable/user_guide/indexing.html#returning-a-view-versus-a-copy\n",
      "  multi_muts['pos'] = positions\n",
      "C:\\Users\\grace\\AppData\\Local\\Temp/ipykernel_2088/689164729.py:25: SettingWithCopyWarning: \n",
      "A value is trying to be set on a copy of a slice from a DataFrame.\n",
      "Try using .loc[row_indexer,col_indexer] = value instead\n",
      "\n",
      "See the caveats in the documentation: https://pandas.pydata.org/pandas-docs/stable/user_guide/indexing.html#returning-a-view-versus-a-copy\n",
      "  multi_muts['new_aa'] = new_aa\n",
      "119883it [00:06, 17609.20it/s]\n"
     ]
    }
   ],
   "source": [
    "n_mut = []\n",
    "for i in range(len(raw_df)):\n",
    "    try:\n",
    "        n_mut.append(raw_df['muts'][i].count(':') + 1)\n",
    "    except:\n",
    "        print(raw_df['muts'][i])\n",
    "raw_df['n_mut'] = n_mut\n",
    "\n",
    "# separate single mutants to identify mutated sites and possible amino acids at each site\n",
    "single_muts = raw_df[raw_df['n_mut']==1]\n",
    "# for single mutants, the position is an int and the new_aa and old_aa are single-character strings\n",
    "single_muts['pos'] = single_muts['muts'].apply(lambda x: int(x[1:-1]))\n",
    "single_muts['new_aa'] = single_muts['muts'].apply(lambda x: x[-1])\n",
    "\n",
    "multi_muts = raw_df[raw_df['n_mut']>1]\n",
    "multi_muts.reset_index(drop=True, inplace=True)\n",
    "# for multi mutants, pos, new_aa and old_aa are lists, in order of each mutation at a given entry\n",
    "positions = []\n",
    "new_aa = []\n",
    "for i in range(len(multi_muts)):\n",
    "    mutations = multi_muts['muts'][i].split(':')\n",
    "    positions.append([int(j[1:-1]) for j in mutations])\n",
    "    new_aa.append([j[-1] for j in mutations])\n",
    "multi_muts['pos'] = positions\n",
    "multi_muts['new_aa'] = new_aa\n",
    "data = pd.concat([single_muts, multi_muts])\n",
    "data.reset_index(drop=True, inplace=True)\n",
    "new_seqs = []\n",
    "var = []\n",
    "for i, row in tqdm(data.iterrows()):\n",
    "    new_seqs.append(get_mut_seq(wt, row['pos'], row['new_aa'], mut_positions))\n",
    "    var.append(row['fit']*0.2)\n",
    "data.insert(0, 'seq', new_seqs)\n",
    "data.insert(3, 'var', var)\n"
   ]
  },
  {
   "cell_type": "code",
   "execution_count": 12,
   "metadata": {},
   "outputs": [],
   "source": [
    "del data['muts']\n",
    "del data['pos']\n",
    "del data['new_aa']\n",
    "del data['n_mut']"
   ]
  },
  {
   "cell_type": "code",
   "execution_count": 23,
   "metadata": {},
   "outputs": [
    {
     "data": {
      "text/html": [
       "<div>\n",
       "<style scoped>\n",
       "    .dataframe tbody tr th:only-of-type {\n",
       "        vertical-align: middle;\n",
       "    }\n",
       "\n",
       "    .dataframe tbody tr th {\n",
       "        vertical-align: top;\n",
       "    }\n",
       "\n",
       "    .dataframe thead th {\n",
       "        text-align: right;\n",
       "    }\n",
       "</style>\n",
       "<table border=\"1\" class=\"dataframe\">\n",
       "  <thead>\n",
       "    <tr style=\"text-align: right;\">\n",
       "      <th></th>\n",
       "      <th>seq</th>\n",
       "      <th>fit</th>\n",
       "      <th>var</th>\n",
       "    </tr>\n",
       "  </thead>\n",
       "  <tbody>\n",
       "    <tr>\n",
       "      <th>0</th>\n",
       "      <td>ADGV</td>\n",
       "      <td>0.061910</td>\n",
       "      <td>0.012382</td>\n",
       "    </tr>\n",
       "    <tr>\n",
       "      <th>1</th>\n",
       "      <td>CDGV</td>\n",
       "      <td>0.242237</td>\n",
       "      <td>0.048447</td>\n",
       "    </tr>\n",
       "    <tr>\n",
       "      <th>2</th>\n",
       "      <td>DDGV</td>\n",
       "      <td>0.006472</td>\n",
       "      <td>0.001294</td>\n",
       "    </tr>\n",
       "    <tr>\n",
       "      <th>3</th>\n",
       "      <td>EDGV</td>\n",
       "      <td>0.032719</td>\n",
       "      <td>0.006544</td>\n",
       "    </tr>\n",
       "    <tr>\n",
       "      <th>4</th>\n",
       "      <td>FDGV</td>\n",
       "      <td>0.377101</td>\n",
       "      <td>0.075420</td>\n",
       "    </tr>\n",
       "  </tbody>\n",
       "</table>\n",
       "</div>"
      ],
      "text/plain": [
       "    seq       fit       var\n",
       "0  ADGV  0.061910  0.012382\n",
       "1  CDGV  0.242237  0.048447\n",
       "2  DDGV  0.006472  0.001294\n",
       "3  EDGV  0.032719  0.006544\n",
       "4  FDGV  0.377101  0.075420"
      ]
     },
     "execution_count": 23,
     "metadata": {},
     "output_type": "execute_result"
    }
   ],
   "source": [
    "data.head()"
   ]
  },
  {
   "cell_type": "code",
   "execution_count": 24,
   "metadata": {},
   "outputs": [],
   "source": [
    "train, test = train_test_split(data, test_size=0.3)"
   ]
  },
  {
   "cell_type": "code",
   "execution_count": 25,
   "metadata": {},
   "outputs": [],
   "source": [
    "train.reset_index(inplace=True, drop=True)"
   ]
  },
  {
   "cell_type": "code",
   "execution_count": 26,
   "metadata": {},
   "outputs": [],
   "source": [
    "babel = ''\n",
    "for i in range(len(train)):\n",
    "    babel += train['seq'][i]\n",
    "\n",
    "alphabet = set(babel)"
   ]
  },
  {
   "cell_type": "code",
   "execution_count": 28,
   "metadata": {},
   "outputs": [
    {
     "data": {
      "text/html": [
       "<div>\n",
       "<style scoped>\n",
       "    .dataframe tbody tr th:only-of-type {\n",
       "        vertical-align: middle;\n",
       "    }\n",
       "\n",
       "    .dataframe tbody tr th {\n",
       "        vertical-align: top;\n",
       "    }\n",
       "\n",
       "    .dataframe thead th {\n",
       "        text-align: right;\n",
       "    }\n",
       "</style>\n",
       "<table border=\"1\" class=\"dataframe\">\n",
       "  <thead>\n",
       "    <tr style=\"text-align: right;\">\n",
       "      <th></th>\n",
       "      <th>seq</th>\n",
       "      <th>fit</th>\n",
       "      <th>var</th>\n",
       "    </tr>\n",
       "  </thead>\n",
       "  <tbody>\n",
       "    <tr>\n",
       "      <th>0</th>\n",
       "      <td>HSAT</td>\n",
       "      <td>0.036406</td>\n",
       "      <td>0.007281</td>\n",
       "    </tr>\n",
       "    <tr>\n",
       "      <th>1</th>\n",
       "      <td>IPSR</td>\n",
       "      <td>0.000816</td>\n",
       "      <td>0.000163</td>\n",
       "    </tr>\n",
       "    <tr>\n",
       "      <th>2</th>\n",
       "      <td>HSFY</td>\n",
       "      <td>0.002095</td>\n",
       "      <td>0.000419</td>\n",
       "    </tr>\n",
       "    <tr>\n",
       "      <th>3</th>\n",
       "      <td>DNAA</td>\n",
       "      <td>0.020837</td>\n",
       "      <td>0.004167</td>\n",
       "    </tr>\n",
       "    <tr>\n",
       "      <th>4</th>\n",
       "      <td>NCVG</td>\n",
       "      <td>0.048085</td>\n",
       "      <td>0.009617</td>\n",
       "    </tr>\n",
       "    <tr>\n",
       "      <th>...</th>\n",
       "      <td>...</td>\n",
       "      <td>...</td>\n",
       "      <td>...</td>\n",
       "    </tr>\n",
       "    <tr>\n",
       "      <th>83913</th>\n",
       "      <td>IRPC</td>\n",
       "      <td>0.010819</td>\n",
       "      <td>0.002164</td>\n",
       "    </tr>\n",
       "    <tr>\n",
       "      <th>83914</th>\n",
       "      <td>FHAH</td>\n",
       "      <td>0.002404</td>\n",
       "      <td>0.000481</td>\n",
       "    </tr>\n",
       "    <tr>\n",
       "      <th>83915</th>\n",
       "      <td>IEKY</td>\n",
       "      <td>0.007213</td>\n",
       "      <td>0.001443</td>\n",
       "    </tr>\n",
       "    <tr>\n",
       "      <th>83916</th>\n",
       "      <td>RFKH</td>\n",
       "      <td>0.003458</td>\n",
       "      <td>0.000692</td>\n",
       "    </tr>\n",
       "    <tr>\n",
       "      <th>83917</th>\n",
       "      <td>QYWY</td>\n",
       "      <td>0.009291</td>\n",
       "      <td>0.001858</td>\n",
       "    </tr>\n",
       "  </tbody>\n",
       "</table>\n",
       "<p>83918 rows × 3 columns</p>\n",
       "</div>"
      ],
      "text/plain": [
       "        seq       fit       var\n",
       "0      HSAT  0.036406  0.007281\n",
       "1      IPSR  0.000816  0.000163\n",
       "2      HSFY  0.002095  0.000419\n",
       "3      DNAA  0.020837  0.004167\n",
       "4      NCVG  0.048085  0.009617\n",
       "...     ...       ...       ...\n",
       "83913  IRPC  0.010819  0.002164\n",
       "83914  FHAH  0.002404  0.000481\n",
       "83915  IEKY  0.007213  0.001443\n",
       "83916  RFKH  0.003458  0.000692\n",
       "83917  QYWY  0.009291  0.001858\n",
       "\n",
       "[83918 rows x 3 columns]"
      ]
     },
     "execution_count": 28,
     "metadata": {},
     "output_type": "execute_result"
    }
   ],
   "source": [
    "train"
   ]
  },
  {
   "cell_type": "code",
   "execution_count": 29,
   "metadata": {},
   "outputs": [],
   "source": [
    "train.to_csv('processed/GB1_train.csv', header=False, index=False)\n",
    "test.to_csv('processed/GB1_test.csv', header=False, index=False)"
   ]
  },
  {
   "cell_type": "code",
   "execution_count": 30,
   "metadata": {},
   "outputs": [],
   "source": [
    "data.to_csv('processed/GB1.csv', header=False, index=False)"
   ]
  },
  {
   "cell_type": "code",
   "execution_count": null,
   "metadata": {},
   "outputs": [],
   "source": []
  }
 ],
 "metadata": {
  "interpreter": {
   "hash": "06a1d3bb80e5f1162f329fb8a1d543a13fd16c37ff33e4c383b3299552056760"
  },
  "kernelspec": {
   "display_name": "Python 3.8.12 ('base')",
   "language": "python",
   "name": "python3"
  },
  "language_info": {
   "codemirror_mode": {
    "name": "ipython",
    "version": 3
   },
   "file_extension": ".py",
   "mimetype": "text/x-python",
   "name": "python",
   "nbconvert_exporter": "python",
   "pygments_lexer": "ipython3",
   "version": "3.8.12"
  },
  "orig_nbformat": 4
 },
 "nbformat": 4,
 "nbformat_minor": 2
}
