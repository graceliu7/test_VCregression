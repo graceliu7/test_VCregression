{
 "cells": [
  {
   "cell_type": "code",
   "execution_count": 1,
   "metadata": {},
   "outputs": [],
   "source": [
    "import numpy as np\n",
    "import pandas as pd\n",
    "from Bio import SeqIO"
   ]
  },
  {
   "cell_type": "code",
   "execution_count": 2,
   "metadata": {},
   "outputs": [],
   "source": [
    "fit_dict = {}\n",
    "fit_dict['seqs'] = []\n",
    "fit_dict['median'] = []\n",
    "fit_dict['mean'] = []\n",
    "with open('hmc_big_hmc_samples.txt') as f:\n",
    "    for line in f.readlines():\n",
    "        fit_dict['seqs'].append(line.split(',')[0])\n",
    "        steps = line.split(',')[1:]\n",
    "        float_steps = [float(step) for step in steps]\n",
    "        fit_dict['median'].append(np.percentile(float_steps, 50))\n",
    "        fit_dict['mean'].append(np.mean(float_steps))\n",
    "df = pd.DataFrame(fit_dict)"
   ]
  },
  {
   "cell_type": "code",
   "execution_count": 3,
   "metadata": {},
   "outputs": [],
   "source": [
    "def map_seq_muts(seq):\n",
    "    pos_dict = {0:39, 1:40, 2:41, 3:54}\n",
    "    fasta_sequences = SeqIO.parse(open('../data/raw/GB1_Wu_2016.fasta'),'fasta')\n",
    "    for fasta in fasta_sequences:\n",
    "        _, sequence = fasta.id, str(fasta.seq)\n",
    "    mut_positions = [39, 40, 41, 54]\n",
    "    wt = ''\n",
    "    for pos in mut_positions:\n",
    "        wt = wt + sequence[pos-1]\n",
    "\n",
    "    muts = []\n",
    "    for i in range(len(seq)):\n",
    "        if wt[i]!=seq[i]:\n",
    "            muts.append(wt[i] + str(pos_dict[i]) + seq[i])\n",
    "\n",
    "    n_muts = len(muts)\n",
    "    if n_muts == 0:\n",
    "        muts = 'wt'\n",
    "    else:\n",
    "        muts = ':'.join(muts)\n",
    "    return muts, n_muts"
   ]
  },
  {
   "cell_type": "code",
   "execution_count": 4,
   "metadata": {},
   "outputs": [],
   "source": [
    "all_muts = []\n",
    "all_n_muts = []\n",
    "for i, row in df.iterrows():\n",
    "    muts, n_muts = map_seq_muts(row['seqs'])\n",
    "    all_n_muts.append(n_muts)\n",
    "    all_muts.append(muts)\n",
    "df['muts'] = all_muts\n",
    "df['n_muts'] = all_n_muts"
   ]
  },
  {
   "cell_type": "code",
   "execution_count": 5,
   "metadata": {},
   "outputs": [
    {
     "data": {
      "text/html": [
       "<div>\n",
       "<style scoped>\n",
       "    .dataframe tbody tr th:only-of-type {\n",
       "        vertical-align: middle;\n",
       "    }\n",
       "\n",
       "    .dataframe tbody tr th {\n",
       "        vertical-align: top;\n",
       "    }\n",
       "\n",
       "    .dataframe thead th {\n",
       "        text-align: right;\n",
       "    }\n",
       "</style>\n",
       "<table border=\"1\" class=\"dataframe\">\n",
       "  <thead>\n",
       "    <tr style=\"text-align: right;\">\n",
       "      <th></th>\n",
       "      <th>seqs</th>\n",
       "      <th>final</th>\n",
       "      <th>muts</th>\n",
       "      <th>n_muts</th>\n",
       "    </tr>\n",
       "  </thead>\n",
       "  <tbody>\n",
       "    <tr>\n",
       "      <th>0</th>\n",
       "      <td>VDGV</td>\n",
       "      <td>0.850525593870447</td>\n",
       "      <td>wt</td>\n",
       "      <td>0</td>\n",
       "    </tr>\n",
       "    <tr>\n",
       "      <th>1</th>\n",
       "      <td>VDSV</td>\n",
       "      <td>0.0631589787353659</td>\n",
       "      <td>G41S</td>\n",
       "      <td>1</td>\n",
       "    </tr>\n",
       "    <tr>\n",
       "      <th>2</th>\n",
       "      <td>QDGV</td>\n",
       "      <td>0.1635656444723430</td>\n",
       "      <td>V39Q</td>\n",
       "      <td>1</td>\n",
       "    </tr>\n",
       "    <tr>\n",
       "      <th>3</th>\n",
       "      <td>SDGV</td>\n",
       "      <td>0.061354195747843</td>\n",
       "      <td>V39S</td>\n",
       "      <td>1</td>\n",
       "    </tr>\n",
       "    <tr>\n",
       "      <th>4</th>\n",
       "      <td>PDGV</td>\n",
       "      <td>0.00756181906597399</td>\n",
       "      <td>V39P</td>\n",
       "      <td>1</td>\n",
       "    </tr>\n",
       "  </tbody>\n",
       "</table>\n",
       "</div>"
      ],
      "text/plain": [
       "   seqs                final  muts  n_muts\n",
       "0  VDGV    0.850525593870447    wt       0\n",
       "1  VDSV   0.0631589787353659  G41S       1\n",
       "2  QDGV   0.1635656444723430  V39Q       1\n",
       "3  SDGV    0.061354195747843  V39S       1\n",
       "4  PDGV  0.00756181906597399  V39P       1"
      ]
     },
     "execution_count": 5,
     "metadata": {},
     "output_type": "execute_result"
    }
   ],
   "source": [
    "df.sort_values(by='n_muts', inplace=True)\n",
    "df.reset_index(inplace=True, drop=True)\n",
    "df.head()"
   ]
  },
  {
   "cell_type": "code",
   "execution_count": 6,
   "metadata": {},
   "outputs": [],
   "source": [
    "df.to_csv('hmc_big_summaries.csv')"
   ]
  }
 ],
 "metadata": {
  "interpreter": {
   "hash": "06a1d3bb80e5f1162f329fb8a1d543a13fd16c37ff33e4c383b3299552056760"
  },
  "kernelspec": {
   "display_name": "Python 3.8.12 ('base')",
   "language": "python",
   "name": "python3"
  },
  "language_info": {
   "codemirror_mode": {
    "name": "ipython",
    "version": 3
   },
   "file_extension": ".py",
   "mimetype": "text/x-python",
   "name": "python",
   "nbconvert_exporter": "python",
   "pygments_lexer": "ipython3",
   "version": "3.8.12 (default, Oct 12 2021, 03:01:40) [MSC v.1916 64 bit (AMD64)]"
  },
  "orig_nbformat": 4,
  "vscode": {
   "interpreter": {
    "hash": "06a1d3bb80e5f1162f329fb8a1d543a13fd16c37ff33e4c383b3299552056760"
   }
  }
 },
 "nbformat": 4,
 "nbformat_minor": 2
}
